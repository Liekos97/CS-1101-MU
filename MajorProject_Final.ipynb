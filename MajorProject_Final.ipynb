{
  "nbformat": 4,
  "nbformat_minor": 0,
  "metadata": {
    "colab": {
      "name": "MajorProject_Final.ipynb",
      "provenance": [],
      "collapsed_sections": [],
      "mount_file_id": "1wBtp-b5uabVcDHp9EZnw_uVaap7GNPZl",
      "authorship_tag": "ABX9TyPrk/GesLqOWjClT4R6RWc9",
      "include_colab_link": true
    },
    "kernelspec": {
      "display_name": "Python 3",
      "name": "python3"
    },
    "language_info": {
      "name": "python"
    },
    "accelerator": "GPU"
  },
  "cells": [
    {
      "cell_type": "markdown",
      "metadata": {
        "id": "view-in-github",
        "colab_type": "text"
      },
      "source": [
        "<a href=\"https://colab.research.google.com/github/Liekos97/CS-1101-MU/blob/master/MajorProject_Final.ipynb\" target=\"_parent\"><img src=\"https://colab.research.google.com/assets/colab-badge.svg\" alt=\"Open In Colab\"/></a>"
      ]
    },
    {
      "cell_type": "code",
      "metadata": {
        "id": "gfnVsaq6S2am",
        "colab": {
          "base_uri": "https://localhost:8080/"
        },
        "outputId": "c1e92591-ad9d-48ca-9818-091eba65c097"
      },
      "source": [
        "!pip install split-folders\n",
        "!pip install split-folders tqdm"
      ],
      "execution_count": null,
      "outputs": [
        {
          "output_type": "stream",
          "text": [
            "Collecting split-folders\n",
            "  Downloading https://files.pythonhosted.org/packages/b8/5f/3c2b2f7ea5e047c8cdc3bb00ae582c5438fcdbbedcc23b3cc1c2c7aae642/split_folders-0.4.3-py3-none-any.whl\n",
            "Installing collected packages: split-folders\n",
            "Successfully installed split-folders-0.4.3\n",
            "Requirement already satisfied: split-folders in /usr/local/lib/python3.7/dist-packages (0.4.3)\n",
            "Requirement already satisfied: tqdm in /usr/local/lib/python3.7/dist-packages (4.41.1)\n"
          ],
          "name": "stdout"
        }
      ]
    },
    {
      "cell_type": "code",
      "metadata": {
        "id": "oPP4Gz9H0hsp"
      },
      "source": [
        "from numpy.random import seed\n",
        "seed(121)\n",
        "import tensorflow as tf\n",
        "tf.random.set_seed(212)\n",
        "import numpy as np\n",
        "import pandas as pd\n",
        "import matplotlib.pyplot as plt\n",
        "import seaborn as sns\n",
        "import os\n",
        "#import splitfolders\n",
        "import datetime"
      ],
      "execution_count": null,
      "outputs": []
    },
    {
      "cell_type": "code",
      "metadata": {
        "id": "YW5fvjXYqdti"
      },
      "source": [
        "#image preprocessing\n",
        "\n",
        "#main_dir=\"/content/drive/MyDrive/Datasets/PlantVillageReduced\"\n",
        "output_dir=\"/content/drive/MyDrive/Datasets/ReducedOutput2\"\n",
        "#splitfolders.ratio(main_dir,output=output_dir,seed=133,ratio=(.7,.2,.1))"
      ],
      "execution_count": null,
      "outputs": []
    },
    {
      "cell_type": "code",
      "metadata": {
        "colab": {
          "base_uri": "https://localhost:8080/"
        },
        "id": "g8-LqB4e2vIY",
        "outputId": "e4fe42df-a765-4b38-f6e2-b5c80f840412"
      },
      "source": [
        "val_datagen=tf.keras.preprocessing.image.ImageDataGenerator(rescale=1/255.0)\n",
        "train_datagen=tf.keras.preprocessing.image.ImageDataGenerator(rescale=1/255.0,\n",
        "                                                              rotation_range=20,\n",
        "                                                              width_shift_range=0.2,\n",
        "                                                              height_shift_range=0.2,\n",
        "                                                              vertical_flip=True,\n",
        "                                                              horizontal_flip=True)\n",
        "training_set=train_datagen.flow_from_directory(output_dir+'/train',target_size=(256,256),class_mode='categorical',batch_size=16,shuffle=True)\n",
        "validation_set=val_datagen.flow_from_directory(output_dir+'/val',target_size=(256,256),class_mode='categorical',batch_size=16,shuffle=False)\n",
        "test_set=val_datagen.flow_from_directory(output_dir+'/test',target_size=(256,256),class_mode='categorical',batch_size=8,shuffle=False)"
      ],
      "execution_count": null,
      "outputs": [
        {
          "output_type": "stream",
          "text": [
            "Found 8394 images belonging to 11 classes.\n",
            "Found 2397 images belonging to 11 classes.\n",
            "Found 1202 images belonging to 11 classes.\n"
          ],
          "name": "stdout"
        }
      ]
    },
    {
      "cell_type": "code",
      "metadata": {
        "id": "-auNHglLzFjq"
      },
      "source": [
        "#classifier model\n",
        "#linear inception models \n",
        "\n",
        "inputs=tf.keras.Input(shape=(256,256,3))\n",
        "\n",
        "x=tf.keras.layers.SeparableConv2D(96,(3,3),padding='valid',dilation_rate=3,activation='relu')(inputs)\n",
        "x=tf.keras.layers.MaxPool2D(pool_size=(2,2),padding='same')(x)\n",
        "x=tf.keras.layers.SeparableConv2D(128,(3,3),padding='valid',dilation_rate=2,activation='relu')(x)\n",
        "x=tf.keras.layers.MaxPool2D(pool_size=(2,2),padding='same')(x)\n",
        "x=tf.keras.layers.SeparableConv2D(196,(3,3),padding='valid',activation='relu')(x)\n",
        "x=tf.keras.layers.MaxPool2D(pool_size=(2,2),padding='valid')(x)\n",
        "x=tf.keras.layers.BatchNormalization()(x) \n",
        "\n",
        "#inception module 1\n",
        "conv1=tf.keras.layers.Conv2D(64,(1,1),padding='same',activation='relu')(x)\n",
        "\n",
        "conv3=tf.keras.layers.Conv2D(48,(1,1),padding='same',activation='relu')(x)\n",
        "conv3=tf.keras.layers.Conv2D(64,(3,1),padding='same',activation='relu')(conv3)\n",
        "conv3=tf.keras.layers.Conv2D(64,(1,3),padding='same',activation='relu')(conv3)\n",
        "\n",
        "conv5=tf.keras.layers.Conv2D(48,(1,1),padding='same',activation='relu')(x)\n",
        "conv5=tf.keras.layers.Conv2D(64,(3,1),padding='same',activation='relu')(conv5)\n",
        "conv5=tf.keras.layers.Conv2D(64,(1,3),padding='same',activation='relu')(conv5)\n",
        "mid1=tf.keras.layers.Conv2D(64,(3,1),padding='same',activation='relu')(conv5)\n",
        "mid2=tf.keras.layers.Conv2D(64,(1,3),padding='same',activation='relu')(conv5)\n",
        "conv5=tf.keras.layers.Concatenate()([mid1,mid2])\n",
        "\n",
        "pool=tf.keras.layers.MaxPool2D(pool_size=(2,2),strides=(1,1),padding='same')(x)\n",
        "pool=tf.keras.layers.Conv2D(64,(1,1),padding='same',activation='relu')(pool)\n",
        "\n",
        "conc1=tf.keras.layers.Concatenate()([conv1,conv3,conv5,pool])\n",
        "x=tf.keras.layers.Concatenate()([x,conc1])\n",
        "\n",
        "#inception module 2\n",
        "conv21=tf.keras.layers.Conv2D(64,(1,1),padding='same',activation='relu')(x)\n",
        "\n",
        "conv23=tf.keras.layers.Conv2D(48,(1,1),padding='same',activation='relu')(x)\n",
        "conv23=tf.keras.layers.Conv2D(64,(3,1),padding='same',activation='relu')(conv23)\n",
        "conv23=tf.keras.layers.Conv2D(64,(1,3),padding='same',activation='relu')(conv23)\n",
        "\n",
        "conv25=tf.keras.layers.Conv2D(48,(1,1),padding='same',activation='relu')(x)\n",
        "conv25=tf.keras.layers.Conv2D(64,(3,1),padding='same',activation='relu')(conv25)\n",
        "conv25=tf.keras.layers.Conv2D(64,(1,3),padding='same',activation='relu')(conv25)\n",
        "mid3=tf.keras.layers.Conv2D(64,(3,1),padding='same',activation='relu')(conv25)\n",
        "mid4=tf.keras.layers.Conv2D(64,(1,3),padding='same',activation='relu')(conv25)\n",
        "conv25=tf.keras.layers.Concatenate()([mid3,mid4])\n",
        "\n",
        "pool2=tf.keras.layers.MaxPool2D(pool_size=(2,2),strides=(1,1),padding='same')(x)\n",
        "pool2=tf.keras.layers.Conv2D(64,(1,1),padding='same',activation='relu')(pool2)\n",
        "\n",
        "conc2=tf.keras.layers.Concatenate()([conv21,conv23,conv25,pool2])\n",
        "x=tf.keras.layers.Concatenate()([x,conc2])\n",
        "\n",
        "x=tf.keras.layers.GlobalAveragePooling2D()(x)\n",
        "outputs=tf.keras.layers.Dense(11,activation='softmax')(x)\n",
        "\n",
        "model=tf.keras.Model(inputs=inputs,outputs=outputs)"
      ],
      "execution_count": null,
      "outputs": []
    },
    {
      "cell_type": "code",
      "metadata": {
        "colab": {
          "base_uri": "https://localhost:8080/"
        },
        "id": "mrmztSPVeaVv",
        "outputId": "5581117b-7fb7-43e4-f554-ec02d5582da2"
      },
      "source": [
        "model.summary()"
      ],
      "execution_count": null,
      "outputs": [
        {
          "output_type": "stream",
          "text": [
            "Model: \"model\"\n",
            "__________________________________________________________________________________________________\n",
            "Layer (type)                    Output Shape         Param #     Connected to                     \n",
            "==================================================================================================\n",
            "input_1 (InputLayer)            [(None, 256, 256, 3) 0                                            \n",
            "__________________________________________________________________________________________________\n",
            "separable_conv2d (SeparableConv (None, 250, 250, 96) 411         input_1[0][0]                    \n",
            "__________________________________________________________________________________________________\n",
            "max_pooling2d (MaxPooling2D)    (None, 125, 125, 96) 0           separable_conv2d[0][0]           \n",
            "__________________________________________________________________________________________________\n",
            "separable_conv2d_1 (SeparableCo (None, 121, 121, 128 13280       max_pooling2d[0][0]              \n",
            "__________________________________________________________________________________________________\n",
            "max_pooling2d_1 (MaxPooling2D)  (None, 61, 61, 128)  0           separable_conv2d_1[0][0]         \n",
            "__________________________________________________________________________________________________\n",
            "separable_conv2d_2 (SeparableCo (None, 59, 59, 196)  26436       max_pooling2d_1[0][0]            \n",
            "__________________________________________________________________________________________________\n",
            "max_pooling2d_2 (MaxPooling2D)  (None, 29, 29, 196)  0           separable_conv2d_2[0][0]         \n",
            "__________________________________________________________________________________________________\n",
            "batch_normalization (BatchNorma (None, 29, 29, 196)  784         max_pooling2d_2[0][0]            \n",
            "__________________________________________________________________________________________________\n",
            "conv2d_4 (Conv2D)               (None, 29, 29, 48)   9456        batch_normalization[0][0]        \n",
            "__________________________________________________________________________________________________\n",
            "conv2d_5 (Conv2D)               (None, 29, 29, 64)   9280        conv2d_4[0][0]                   \n",
            "__________________________________________________________________________________________________\n",
            "conv2d_1 (Conv2D)               (None, 29, 29, 48)   9456        batch_normalization[0][0]        \n",
            "__________________________________________________________________________________________________\n",
            "conv2d_6 (Conv2D)               (None, 29, 29, 64)   12352       conv2d_5[0][0]                   \n",
            "__________________________________________________________________________________________________\n",
            "conv2d_2 (Conv2D)               (None, 29, 29, 64)   9280        conv2d_1[0][0]                   \n",
            "__________________________________________________________________________________________________\n",
            "conv2d_7 (Conv2D)               (None, 29, 29, 64)   12352       conv2d_6[0][0]                   \n",
            "__________________________________________________________________________________________________\n",
            "conv2d_8 (Conv2D)               (None, 29, 29, 64)   12352       conv2d_6[0][0]                   \n",
            "__________________________________________________________________________________________________\n",
            "max_pooling2d_3 (MaxPooling2D)  (None, 29, 29, 196)  0           batch_normalization[0][0]        \n",
            "__________________________________________________________________________________________________\n",
            "conv2d (Conv2D)                 (None, 29, 29, 64)   12608       batch_normalization[0][0]        \n",
            "__________________________________________________________________________________________________\n",
            "conv2d_3 (Conv2D)               (None, 29, 29, 64)   12352       conv2d_2[0][0]                   \n",
            "__________________________________________________________________________________________________\n",
            "concatenate (Concatenate)       (None, 29, 29, 128)  0           conv2d_7[0][0]                   \n",
            "                                                                 conv2d_8[0][0]                   \n",
            "__________________________________________________________________________________________________\n",
            "conv2d_9 (Conv2D)               (None, 29, 29, 64)   12608       max_pooling2d_3[0][0]            \n",
            "__________________________________________________________________________________________________\n",
            "concatenate_1 (Concatenate)     (None, 29, 29, 320)  0           conv2d[0][0]                     \n",
            "                                                                 conv2d_3[0][0]                   \n",
            "                                                                 concatenate[0][0]                \n",
            "                                                                 conv2d_9[0][0]                   \n",
            "__________________________________________________________________________________________________\n",
            "concatenate_2 (Concatenate)     (None, 29, 29, 516)  0           batch_normalization[0][0]        \n",
            "                                                                 concatenate_1[0][0]              \n",
            "__________________________________________________________________________________________________\n",
            "conv2d_14 (Conv2D)              (None, 29, 29, 48)   24816       concatenate_2[0][0]              \n",
            "__________________________________________________________________________________________________\n",
            "conv2d_15 (Conv2D)              (None, 29, 29, 64)   9280        conv2d_14[0][0]                  \n",
            "__________________________________________________________________________________________________\n",
            "conv2d_11 (Conv2D)              (None, 29, 29, 48)   24816       concatenate_2[0][0]              \n",
            "__________________________________________________________________________________________________\n",
            "conv2d_16 (Conv2D)              (None, 29, 29, 64)   12352       conv2d_15[0][0]                  \n",
            "__________________________________________________________________________________________________\n",
            "conv2d_12 (Conv2D)              (None, 29, 29, 64)   9280        conv2d_11[0][0]                  \n",
            "__________________________________________________________________________________________________\n",
            "conv2d_17 (Conv2D)              (None, 29, 29, 64)   12352       conv2d_16[0][0]                  \n",
            "__________________________________________________________________________________________________\n",
            "conv2d_18 (Conv2D)              (None, 29, 29, 64)   12352       conv2d_16[0][0]                  \n",
            "__________________________________________________________________________________________________\n",
            "max_pooling2d_4 (MaxPooling2D)  (None, 29, 29, 516)  0           concatenate_2[0][0]              \n",
            "__________________________________________________________________________________________________\n",
            "conv2d_10 (Conv2D)              (None, 29, 29, 64)   33088       concatenate_2[0][0]              \n",
            "__________________________________________________________________________________________________\n",
            "conv2d_13 (Conv2D)              (None, 29, 29, 64)   12352       conv2d_12[0][0]                  \n",
            "__________________________________________________________________________________________________\n",
            "concatenate_3 (Concatenate)     (None, 29, 29, 128)  0           conv2d_17[0][0]                  \n",
            "                                                                 conv2d_18[0][0]                  \n",
            "__________________________________________________________________________________________________\n",
            "conv2d_19 (Conv2D)              (None, 29, 29, 64)   33088       max_pooling2d_4[0][0]            \n",
            "__________________________________________________________________________________________________\n",
            "concatenate_4 (Concatenate)     (None, 29, 29, 320)  0           conv2d_10[0][0]                  \n",
            "                                                                 conv2d_13[0][0]                  \n",
            "                                                                 concatenate_3[0][0]              \n",
            "                                                                 conv2d_19[0][0]                  \n",
            "__________________________________________________________________________________________________\n",
            "concatenate_5 (Concatenate)     (None, 29, 29, 836)  0           concatenate_2[0][0]              \n",
            "                                                                 concatenate_4[0][0]              \n",
            "__________________________________________________________________________________________________\n",
            "global_average_pooling2d (Globa (None, 836)          0           concatenate_5[0][0]              \n",
            "__________________________________________________________________________________________________\n",
            "dense (Dense)                   (None, 11)           9207        global_average_pooling2d[0][0]   \n",
            "==================================================================================================\n",
            "Total params: 345,990\n",
            "Trainable params: 345,598\n",
            "Non-trainable params: 392\n",
            "__________________________________________________________________________________________________\n"
          ],
          "name": "stdout"
        }
      ]
    },
    {
      "cell_type": "code",
      "metadata": {
        "id": "iq7BcaabbV3X"
      },
      "source": [
        "#compile\n",
        "\n",
        "model.compile(optimizer=tf.keras.optimizers.Adam(amsgrad=True),loss='CategoricalCrossentropy',metrics=['accuracy'])"
      ],
      "execution_count": null,
      "outputs": []
    },
    {
      "cell_type": "code",
      "metadata": {
        "colab": {
          "base_uri": "https://localhost:8080/",
          "height": 178
        },
        "id": "VINDaLlw4_zZ",
        "outputId": "0e87176c-4d64-431d-e75c-27b68c3ae63c"
      },
      "source": [
        "tf.keras.utils.plot_model(model, show_shapes=False,show_layer_names=False,rankdir='LR',dpi=96)"
      ],
      "execution_count": null,
      "outputs": [
        {
          "output_type": "execute_result",
          "data": {
            "image/png": "[encoded data removed]",
            "text/plain": [
              "<IPython.core.display.Image object>"
            ]
          },
          "metadata": {
            "tags": []
          },
          "execution_count": 7
        }
      ]
    },
    {
      "cell_type": "code",
      "metadata": {
        "id": "j3_qNw_qmy6a"
      },
      "source": [
        "#callbacks\n",
        "\n",
        "checkpoint_callback=tf.keras.callbacks.ModelCheckpoint(filepath='/content/drive/MyDrive/Checkpoints/MC/savedmodel.{epoch:02d}-{val_accuracy:.2f}.hdf5',monitor='val_accuracy',mode='max',save_best_only=True,verbose=1)\n",
        "\n",
        "logdir=\"/content/drive/MyDrive/Checkpoints/TB/logs/\" + datetime.datetime.now().strftime(\"%Y%m%d-%H%M%S\")\n",
        "#tensorboard_callback = tf.keras.callbacks.TensorBoard(log_dir=logdir,histogram_freq=1,write_graph=False)"
      ],
      "execution_count": null,
      "outputs": []
    },
    {
      "cell_type": "code",
      "metadata": {
        "id": "eL3MCumXwEv4"
      },
      "source": [
        "#previous log clearance\n",
        "\n",
        "rm -rf /content/drive/MyDrive/Checkpoints/TB/logs/"
      ],
      "execution_count": null,
      "outputs": []
    },
    {
      "cell_type": "code",
      "metadata": {
        "colab": {
          "base_uri": "https://localhost:8080/"
        },
        "id": "0319nQKPbV61",
        "outputId": "c67fb372-f89f-4835-c7b8-131492e3648c"
      },
      "source": [
        "#training \n",
        "\n",
        "history=model.fit(x=training_set,epochs=30,verbose=1,validation_data=validation_set,shuffle=True,callbacks=checkpoint_callback)"
      ],
      "execution_count": null,
      "outputs": [
        {
          "output_type": "stream",
          "text": [
            "Epoch 1/30\n",
            "597/597 [==============================] - 6017s 10s/step - loss: 1.7669 - accuracy: 0.3671 - val_loss: 1.3675 - val_accuracy: 0.5385\n",
            "\n",
            "Epoch 00001: val_accuracy improved from -inf to 0.53852, saving model to /content/drive/MyDrive/Checkpoints/MC/savedmodel.01-0.54.hdf5\n",
            "Epoch 2/30\n",
            "597/597 [==============================] - 249s 417ms/step - loss: 1.0640 - accuracy: 0.6230 - val_loss: 1.4184 - val_accuracy: 0.5693\n",
            "\n",
            "Epoch 00002: val_accuracy improved from 0.53852 to 0.56933, saving model to /content/drive/MyDrive/Checkpoints/MC/savedmodel.02-0.57.hdf5\n",
            "Epoch 3/30\n",
            "597/597 [==============================] - 247s 414ms/step - loss: 0.7269 - accuracy: 0.7447 - val_loss: 0.8314 - val_accuracy: 0.7128\n",
            "\n",
            "Epoch 00003: val_accuracy improved from 0.56933 to 0.71277, saving model to /content/drive/MyDrive/Checkpoints/MC/savedmodel.03-0.71.hdf5\n",
            "Epoch 4/30\n",
            "597/597 [==============================] - 249s 416ms/step - loss: 0.4899 - accuracy: 0.8202 - val_loss: 0.3887 - val_accuracy: 0.8514\n",
            "\n",
            "Epoch 00004: val_accuracy improved from 0.71277 to 0.85143, saving model to /content/drive/MyDrive/Checkpoints/MC/savedmodel.04-0.85.hdf5\n",
            "Epoch 5/30\n",
            "597/597 [==============================] - 247s 414ms/step - loss: 0.3853 - accuracy: 0.8555 - val_loss: 0.3863 - val_accuracy: 0.8591\n",
            "\n",
            "Epoch 00005: val_accuracy improved from 0.85143 to 0.85913, saving model to /content/drive/MyDrive/Checkpoints/MC/savedmodel.05-0.86.hdf5\n",
            "Epoch 6/30\n",
            "597/597 [==============================] - 248s 415ms/step - loss: 0.3154 - accuracy: 0.8815 - val_loss: 0.4130 - val_accuracy: 0.8588\n",
            "\n",
            "Epoch 00006: val_accuracy did not improve from 0.85913\n",
            "Epoch 7/30\n",
            "597/597 [==============================] - 247s 413ms/step - loss: 0.2649 - accuracy: 0.9010 - val_loss: 0.3813 - val_accuracy: 0.8720\n",
            "\n",
            "Epoch 00007: val_accuracy improved from 0.85913 to 0.87197, saving model to /content/drive/MyDrive/Checkpoints/MC/savedmodel.07-0.87.hdf5\n",
            "Epoch 8/30\n",
            "597/597 [==============================] - 246s 412ms/step - loss: 0.2371 - accuracy: 0.9130 - val_loss: 0.3412 - val_accuracy: 0.8808\n",
            "\n",
            "Epoch 00008: val_accuracy improved from 0.87197 to 0.88078, saving model to /content/drive/MyDrive/Checkpoints/MC/savedmodel.08-0.88.hdf5\n",
            "Epoch 9/30\n",
            "597/597 [==============================] - 247s 413ms/step - loss: 0.2045 - accuracy: 0.9248 - val_loss: 0.2094 - val_accuracy: 0.9241\n",
            "\n",
            "Epoch 00009: val_accuracy improved from 0.88078 to 0.92406, saving model to /content/drive/MyDrive/Checkpoints/MC/savedmodel.09-0.92.hdf5\n",
            "Epoch 10/30\n",
            "597/597 [==============================] - 248s 415ms/step - loss: 0.1949 - accuracy: 0.9301 - val_loss: 0.1838 - val_accuracy: 0.9380\n",
            "\n",
            "Epoch 00010: val_accuracy improved from 0.92406 to 0.93800, saving model to /content/drive/MyDrive/Checkpoints/MC/savedmodel.10-0.94.hdf5\n",
            "Epoch 11/30\n",
            "597/597 [==============================] - 247s 413ms/step - loss: 0.1981 - accuracy: 0.9294 - val_loss: 0.1963 - val_accuracy: 0.9288\n",
            "\n",
            "Epoch 00011: val_accuracy did not improve from 0.93800\n",
            "Epoch 12/30\n",
            "597/597 [==============================] - 246s 412ms/step - loss: 0.1830 - accuracy: 0.9328 - val_loss: 0.2083 - val_accuracy: 0.9354\n",
            "\n",
            "Epoch 00012: val_accuracy did not improve from 0.93800\n",
            "Epoch 13/30\n",
            "597/597 [==============================] - 247s 413ms/step - loss: 0.1634 - accuracy: 0.9438 - val_loss: 0.1617 - val_accuracy: 0.9442\n",
            "\n",
            "Epoch 00013: val_accuracy improved from 0.93800 to 0.94424, saving model to /content/drive/MyDrive/Checkpoints/MC/savedmodel.13-0.94.hdf5\n",
            "Epoch 14/30\n",
            "597/597 [==============================] - 249s 417ms/step - loss: 0.1456 - accuracy: 0.9454 - val_loss: 0.1576 - val_accuracy: 0.9424\n",
            "\n",
            "Epoch 00014: val_accuracy did not improve from 0.94424\n",
            "Epoch 15/30\n",
            "597/597 [==============================] - 249s 417ms/step - loss: 0.1330 - accuracy: 0.9526 - val_loss: 0.2157 - val_accuracy: 0.9395\n",
            "\n",
            "Epoch 00015: val_accuracy did not improve from 0.94424\n",
            "Epoch 16/30\n",
            "597/597 [==============================] - 249s 417ms/step - loss: 0.1334 - accuracy: 0.9528 - val_loss: 0.1294 - val_accuracy: 0.9519\n",
            "\n",
            "Epoch 00016: val_accuracy improved from 0.94424 to 0.95194, saving model to /content/drive/MyDrive/Checkpoints/MC/savedmodel.16-0.95.hdf5\n",
            "Epoch 17/30\n",
            "597/597 [==============================] - 253s 424ms/step - loss: 0.1158 - accuracy: 0.9572 - val_loss: 0.1981 - val_accuracy: 0.9325\n",
            "\n",
            "Epoch 00017: val_accuracy did not improve from 0.95194\n",
            "Epoch 18/30\n",
            "597/597 [==============================] - 253s 424ms/step - loss: 0.1285 - accuracy: 0.9543 - val_loss: 0.1179 - val_accuracy: 0.9585\n",
            "\n",
            "Epoch 00018: val_accuracy improved from 0.95194 to 0.95855, saving model to /content/drive/MyDrive/Checkpoints/MC/savedmodel.18-0.96.hdf5\n",
            "Epoch 19/30\n",
            "597/597 [==============================] - 254s 425ms/step - loss: 0.1192 - accuracy: 0.9589 - val_loss: 0.1120 - val_accuracy: 0.9615\n",
            "\n",
            "Epoch 00019: val_accuracy improved from 0.95855 to 0.96148, saving model to /content/drive/MyDrive/Checkpoints/MC/savedmodel.19-0.96.hdf5\n",
            "Epoch 20/30\n",
            "597/597 [==============================] - 255s 427ms/step - loss: 0.1072 - accuracy: 0.9612 - val_loss: 0.2161 - val_accuracy: 0.9285\n",
            "\n",
            "Epoch 00020: val_accuracy did not improve from 0.96148\n",
            "Epoch 21/30\n",
            "597/597 [==============================] - 256s 429ms/step - loss: 0.1036 - accuracy: 0.9635 - val_loss: 0.1409 - val_accuracy: 0.9552\n",
            "\n",
            "Epoch 00021: val_accuracy did not improve from 0.96148\n",
            "Epoch 22/30\n",
            "597/597 [==============================] - 259s 433ms/step - loss: 0.1154 - accuracy: 0.9598 - val_loss: 0.1356 - val_accuracy: 0.9549\n",
            "\n",
            "Epoch 00022: val_accuracy did not improve from 0.96148\n",
            "Epoch 23/30\n",
            "597/597 [==============================] - 257s 430ms/step - loss: 0.0994 - accuracy: 0.9651 - val_loss: 0.1373 - val_accuracy: 0.9552\n",
            "\n",
            "Epoch 00023: val_accuracy did not improve from 0.96148\n",
            "Epoch 24/30\n",
            "597/597 [==============================] - 256s 428ms/step - loss: 0.0860 - accuracy: 0.9688 - val_loss: 0.1163 - val_accuracy: 0.9593\n",
            "\n",
            "Epoch 00024: val_accuracy did not improve from 0.96148\n",
            "Epoch 25/30\n",
            "597/597 [==============================] - 256s 428ms/step - loss: 0.0986 - accuracy: 0.9652 - val_loss: 0.1745 - val_accuracy: 0.9483\n",
            "\n",
            "Epoch 00025: val_accuracy did not improve from 0.96148\n",
            "Epoch 26/30\n",
            "597/597 [==============================] - 258s 431ms/step - loss: 0.1211 - accuracy: 0.9583 - val_loss: 0.1120 - val_accuracy: 0.9622\n",
            "\n",
            "Epoch 00026: val_accuracy improved from 0.96148 to 0.96222, saving model to /content/drive/MyDrive/Checkpoints/MC/savedmodel.26-0.96.hdf5\n",
            "Epoch 27/30\n",
            "597/597 [==============================] - 256s 429ms/step - loss: 0.0897 - accuracy: 0.9678 - val_loss: 0.1262 - val_accuracy: 0.9560\n",
            "\n",
            "Epoch 00027: val_accuracy did not improve from 0.96222\n",
            "Epoch 28/30\n",
            "597/597 [==============================] - 256s 429ms/step - loss: 0.0868 - accuracy: 0.9679 - val_loss: 0.1123 - val_accuracy: 0.9611\n",
            "\n",
            "Epoch 00028: val_accuracy did not improve from 0.96222\n",
            "Epoch 29/30\n",
            "597/597 [==============================] - 257s 430ms/step - loss: 0.0904 - accuracy: 0.9672 - val_loss: 0.1443 - val_accuracy: 0.9571\n",
            "\n",
            "Epoch 00029: val_accuracy did not improve from 0.96222\n",
            "Epoch 30/30\n",
            "597/597 [==============================] - 257s 430ms/step - loss: 0.0795 - accuracy: 0.9704 - val_loss: 0.0881 - val_accuracy: 0.9674\n",
            "\n",
            "Epoch 00030: val_accuracy improved from 0.96222 to 0.96735, saving model to /content/drive/MyDrive/Checkpoints/MC/savedmodel.30-0.97.hdf5\n"
          ],
          "name": "stdout"
        }
      ]
    },
    {
      "cell_type": "code",
      "metadata": {
        "colab": {
          "base_uri": "https://localhost:8080/"
        },
        "id": "gFnXkUO2Px3b",
        "outputId": "6802da72-6a46-4671-d825-14514c09cb4e"
      },
      "source": [
        "#validation evaluation\n",
        "\n",
        "validation_set.reset()\n",
        "model.evaluate(x=validation_set,verbose=1)"
      ],
      "execution_count": null,
      "outputs": [
        {
          "output_type": "stream",
          "text": [
            "171/171 [==============================] - 15s 87ms/step - loss: 0.0881 - accuracy: 0.9674\n"
          ],
          "name": "stdout"
        },
        {
          "output_type": "execute_result",
          "data": {
            "text/plain": [
              "[0.0881098061800003, 0.9673514366149902]"
            ]
          },
          "metadata": {
            "tags": []
          },
          "execution_count": 12
        }
      ]
    },
    {
      "cell_type": "code",
      "metadata": {
        "colab": {
          "base_uri": "https://localhost:8080/"
        },
        "id": "pYNS2LAcWM7g",
        "outputId": "f6abf141-1bf9-4ddd-cf82-dd41d8176df3"
      },
      "source": [
        "#test set evaluation\n",
        "\n",
        "model.evaluate(x=test_set,verbose=1)"
      ],
      "execution_count": null,
      "outputs": [
        {
          "output_type": "stream",
          "text": [
            "171/171 [==============================] - 623s 4s/step - loss: 0.0750 - accuracy: 0.9773\n"
          ],
          "name": "stdout"
        },
        {
          "output_type": "execute_result",
          "data": {
            "text/plain": [
              "[0.07495158165693283, 0.9773225784301758]"
            ]
          },
          "metadata": {
            "tags": []
          },
          "execution_count": 13
        }
      ]
    },
    {
      "cell_type": "code",
      "metadata": {
        "id": "TOqOOUUh5sYk",
        "colab": {
          "base_uri": "https://localhost:8080/",
          "height": 585
        },
        "outputId": "73820ebb-2131-41ba-d42b-f390a00490bf"
      },
      "source": [
        "#visual representation\n",
        "\n",
        "sns.set()\n",
        "\n",
        "acc = history.history['accuracy']\n",
        "val_acc = history.history['val_accuracy']\n",
        "loss = history.history['loss']\n",
        "val_loss = history.history['val_loss']\n",
        "epochs = range(1, len(loss) + 1)\n",
        "\n",
        "#accuracy plot\n",
        "plt.plot(epochs, acc, color='green', label='Training Accuracy')\n",
        "plt.plot(epochs, val_acc, color='blue', label='Validation Accuracy')\n",
        "plt.title('Training and Validation Accuracy')\n",
        "plt.ylabel('Accuracy')\n",
        "plt.xlabel('Epoch')\n",
        "plt.legend()\n",
        "\n",
        "plt.figure()\n",
        "\n",
        "#loss plot\n",
        "plt.plot(epochs, loss, color='blue', label='Training Loss')\n",
        "plt.plot(epochs, val_loss, color='red', label='Validation Loss')\n",
        "plt.title('Training and Validation Loss')\n",
        "plt.xlabel('Epoch')\n",
        "plt.ylabel('Loss')\n",
        "plt.legend()\n",
        "\n",
        "plt.show()"
      ],
      "execution_count": null,
      "outputs": [
        {
          "output_type": "display_data",
          "data": {
            "image/png": "[encoded data removed]",
            "text/plain": [
              "<Figure size 432x288 with 1 Axes>"
            ]
          },
          "metadata": {
            "tags": []
          }
        },
        {
          "output_type": "display_data",
          "data": {
            "image/png": "[encoded data removed]",
            "text/plain": [
              "<Figure size 432x288 with 1 Axes>"
            ]
          },
          "metadata": {
            "tags": []
          }
        }
      ]
    },
    {
      "cell_type": "code",
      "metadata": {
        "id": "DZMpI1yQtm1X"
      },
      "source": [
        "%load_ext tensorboard\n",
        "%tensorboard --logdir /content/drive/MyDrive/Checkpoints/TB/logs"
      ],
      "execution_count": null,
      "outputs": []
    },
    {
      "cell_type": "code",
      "metadata": {
        "id": "dXXoJOL4l3Cs"
      },
      "source": [
        "# predicting single image\n",
        "\n",
        "from keras.preprocessing import image\n",
        "import numpy as np\n",
        "image_path = \"\"\n",
        "new_img = image.load_img(image_path, target_size=(256, 256))\n",
        "img = image.img_to_array(new_img)\n",
        "img = np.expand_dims(img, axis=0)\n",
        "img = img/255\n",
        "\n",
        "print(\"Following is our prediction:\")\n",
        "prediction = model.predict(img)\n",
        "# decode the results into a list of tuples (class, description, probability)\n",
        "# (one such list for each sample in the batch)\n",
        "d = prediction.flatten()\n",
        "j = d.max()\n",
        "for index,item in enumerate(d):\n",
        "    if item == j:\n",
        "        class_name = li[index]\n",
        "\n",
        "#ploting image with predicted class name        \n",
        "plt.figure(figsize = (4,4))\n",
        "plt.imshow(new_img)\n",
        "plt.axis('off')\n",
        "plt.title(class_name)\n",
        "plt.show()"
      ],
      "execution_count": null,
      "outputs": []
    },
    {
      "cell_type": "code",
      "metadata": {
        "id": "AtEibQayYfKZ"
      },
      "source": [
        "# reset the test_data to start iterating over dataset from scratch\n",
        "test_set.reset()\n",
        "\n",
        "# start to predict\n",
        "pred = model.predict(test_set)"
      ],
      "execution_count": null,
      "outputs": []
    },
    {
      "cell_type": "code",
      "metadata": {
        "colab": {
          "base_uri": "https://localhost:8080/",
          "height": 444
        },
        "id": "iiBWvmmFvZGP",
        "outputId": "546ba81b-4e5d-4c1d-8c33-d89d884a997d"
      },
      "source": [
        "# use the confusion_matrix function provided by tensorflow to generate confusion matrix\n",
        "con_mat = tf.math.confusion_matrix(labels=test_set.classes, predictions=np.argmax(pred, axis=1)).numpy()\n",
        "\n",
        "# normalize the confusion matrix\n",
        "con_mat_norm = np.around(con_mat.astype('float') / con_mat.sum(axis=1)[:, np.newaxis], decimals=2)\n",
        "\n",
        "# convert the nomalized confusion matrix for better view\n",
        "con_mat_df = pd.DataFrame(con_mat_norm,\n",
        "                     index = test_set.class_indices.keys(), \n",
        "                     columns = test_set.class_indices.keys())\n",
        "\n",
        "# show the nomalized confusion matrix\n",
        "con_mat_df"
      ],
      "execution_count": null,
      "outputs": [
        {
          "output_type": "execute_result",
          "data": {
            "text/html": [
              "<div>\n",
              "<style scoped>\n",
              "    .dataframe tbody tr th:only-of-type {\n",
              "        vertical-align: middle;\n",
              "    }\n",
              "\n",
              "    .dataframe tbody tr th {\n",
              "        vertical-align: top;\n",
              "    }\n",
              "\n",
              "    .dataframe thead th {\n",
              "        text-align: right;\n",
              "    }\n",
              "</style>\n",
              "<table border=\"1\" class=\"dataframe\">\n",
              "  <thead>\n",
              "    <tr style=\"text-align: right;\">\n",
              "      <th></th>\n",
              "      <th>Corn___Cercospora_leaf_spot Gray_leaf_spot</th>\n",
              "      <th>Corn___Common_rust</th>\n",
              "      <th>Corn___Northern_Leaf_Blight</th>\n",
              "      <th>Corn___healthy</th>\n",
              "      <th>Grape___Black_rot</th>\n",
              "      <th>Grape___Esca_(Black_Measles)</th>\n",
              "      <th>Grape___Leaf_blight_(Isariopsis_Leaf_Spot)</th>\n",
              "      <th>Grape___healthy</th>\n",
              "      <th>Potato___Early_blight</th>\n",
              "      <th>Potato___Late_blight</th>\n",
              "      <th>Potato___healthy</th>\n",
              "    </tr>\n",
              "  </thead>\n",
              "  <tbody>\n",
              "    <tr>\n",
              "      <th>Corn___Cercospora_leaf_spot Gray_leaf_spot</th>\n",
              "      <td>0.93</td>\n",
              "      <td>0.00</td>\n",
              "      <td>0.07</td>\n",
              "      <td>0.00</td>\n",
              "      <td>0.00</td>\n",
              "      <td>0.00</td>\n",
              "      <td>0.00</td>\n",
              "      <td>0.00</td>\n",
              "      <td>0.00</td>\n",
              "      <td>0.00</td>\n",
              "      <td>0.00</td>\n",
              "    </tr>\n",
              "    <tr>\n",
              "      <th>Corn___Common_rust</th>\n",
              "      <td>0.00</td>\n",
              "      <td>0.98</td>\n",
              "      <td>0.00</td>\n",
              "      <td>0.00</td>\n",
              "      <td>0.00</td>\n",
              "      <td>0.00</td>\n",
              "      <td>0.00</td>\n",
              "      <td>0.00</td>\n",
              "      <td>0.02</td>\n",
              "      <td>0.00</td>\n",
              "      <td>0.00</td>\n",
              "    </tr>\n",
              "    <tr>\n",
              "      <th>Corn___Northern_Leaf_Blight</th>\n",
              "      <td>0.06</td>\n",
              "      <td>0.00</td>\n",
              "      <td>0.94</td>\n",
              "      <td>0.00</td>\n",
              "      <td>0.00</td>\n",
              "      <td>0.00</td>\n",
              "      <td>0.00</td>\n",
              "      <td>0.00</td>\n",
              "      <td>0.00</td>\n",
              "      <td>0.00</td>\n",
              "      <td>0.00</td>\n",
              "    </tr>\n",
              "    <tr>\n",
              "      <th>Corn___healthy</th>\n",
              "      <td>0.00</td>\n",
              "      <td>0.00</td>\n",
              "      <td>0.00</td>\n",
              "      <td>0.99</td>\n",
              "      <td>0.00</td>\n",
              "      <td>0.00</td>\n",
              "      <td>0.00</td>\n",
              "      <td>0.00</td>\n",
              "      <td>0.00</td>\n",
              "      <td>0.00</td>\n",
              "      <td>0.01</td>\n",
              "    </tr>\n",
              "    <tr>\n",
              "      <th>Grape___Black_rot</th>\n",
              "      <td>0.00</td>\n",
              "      <td>0.00</td>\n",
              "      <td>0.00</td>\n",
              "      <td>0.00</td>\n",
              "      <td>0.95</td>\n",
              "      <td>0.04</td>\n",
              "      <td>0.00</td>\n",
              "      <td>0.01</td>\n",
              "      <td>0.00</td>\n",
              "      <td>0.00</td>\n",
              "      <td>0.00</td>\n",
              "    </tr>\n",
              "    <tr>\n",
              "      <th>Grape___Esca_(Black_Measles)</th>\n",
              "      <td>0.00</td>\n",
              "      <td>0.00</td>\n",
              "      <td>0.00</td>\n",
              "      <td>0.00</td>\n",
              "      <td>0.01</td>\n",
              "      <td>0.99</td>\n",
              "      <td>0.00</td>\n",
              "      <td>0.00</td>\n",
              "      <td>0.00</td>\n",
              "      <td>0.00</td>\n",
              "      <td>0.00</td>\n",
              "    </tr>\n",
              "    <tr>\n",
              "      <th>Grape___Leaf_blight_(Isariopsis_Leaf_Spot)</th>\n",
              "      <td>0.00</td>\n",
              "      <td>0.00</td>\n",
              "      <td>0.00</td>\n",
              "      <td>0.00</td>\n",
              "      <td>0.00</td>\n",
              "      <td>0.00</td>\n",
              "      <td>0.99</td>\n",
              "      <td>0.00</td>\n",
              "      <td>0.01</td>\n",
              "      <td>0.00</td>\n",
              "      <td>0.00</td>\n",
              "    </tr>\n",
              "    <tr>\n",
              "      <th>Grape___healthy</th>\n",
              "      <td>0.00</td>\n",
              "      <td>0.00</td>\n",
              "      <td>0.00</td>\n",
              "      <td>0.00</td>\n",
              "      <td>0.00</td>\n",
              "      <td>0.00</td>\n",
              "      <td>0.00</td>\n",
              "      <td>0.99</td>\n",
              "      <td>0.00</td>\n",
              "      <td>0.00</td>\n",
              "      <td>0.01</td>\n",
              "    </tr>\n",
              "    <tr>\n",
              "      <th>Potato___Early_blight</th>\n",
              "      <td>0.00</td>\n",
              "      <td>0.00</td>\n",
              "      <td>0.00</td>\n",
              "      <td>0.00</td>\n",
              "      <td>0.00</td>\n",
              "      <td>0.00</td>\n",
              "      <td>0.00</td>\n",
              "      <td>0.00</td>\n",
              "      <td>1.00</td>\n",
              "      <td>0.00</td>\n",
              "      <td>0.00</td>\n",
              "    </tr>\n",
              "    <tr>\n",
              "      <th>Potato___Late_blight</th>\n",
              "      <td>0.00</td>\n",
              "      <td>0.00</td>\n",
              "      <td>0.00</td>\n",
              "      <td>0.00</td>\n",
              "      <td>0.00</td>\n",
              "      <td>0.00</td>\n",
              "      <td>0.02</td>\n",
              "      <td>0.00</td>\n",
              "      <td>0.06</td>\n",
              "      <td>0.88</td>\n",
              "      <td>0.04</td>\n",
              "    </tr>\n",
              "    <tr>\n",
              "      <th>Potato___healthy</th>\n",
              "      <td>0.00</td>\n",
              "      <td>0.00</td>\n",
              "      <td>0.00</td>\n",
              "      <td>0.00</td>\n",
              "      <td>0.00</td>\n",
              "      <td>0.00</td>\n",
              "      <td>0.00</td>\n",
              "      <td>0.00</td>\n",
              "      <td>0.00</td>\n",
              "      <td>0.00</td>\n",
              "      <td>1.00</td>\n",
              "    </tr>\n",
              "  </tbody>\n",
              "</table>\n",
              "</div>"
            ],
            "text/plain": [
              "                                            Corn___Cercospora_leaf_spot Gray_leaf_spot  ...  Potato___healthy\n",
              "Corn___Cercospora_leaf_spot Gray_leaf_spot                                        0.93  ...              0.00\n",
              "Corn___Common_rust                                                                0.00  ...              0.00\n",
              "Corn___Northern_Leaf_Blight                                                       0.06  ...              0.00\n",
              "Corn___healthy                                                                    0.00  ...              0.01\n",
              "Grape___Black_rot                                                                 0.00  ...              0.00\n",
              "Grape___Esca_(Black_Measles)                                                      0.00  ...              0.00\n",
              "Grape___Leaf_blight_(Isariopsis_Leaf_Spot)                                        0.00  ...              0.00\n",
              "Grape___healthy                                                                   0.00  ...              0.01\n",
              "Potato___Early_blight                                                             0.00  ...              0.00\n",
              "Potato___Late_blight                                                              0.00  ...              0.04\n",
              "Potato___healthy                                                                  0.00  ...              1.00\n",
              "\n",
              "[11 rows x 11 columns]"
            ]
          },
          "metadata": {
            "tags": []
          },
          "execution_count": 15
        }
      ]
    },
    {
      "cell_type": "code",
      "metadata": {
        "colab": {
          "base_uri": "https://localhost:8080/",
          "height": 444
        },
        "id": "AbeChXpGy9WH",
        "outputId": "86e6b279-29f4-4a52-c33f-ffb2fee85bb9"
      },
      "source": [
        "# convert the original confusion matrix for better view (using the case numbers)\n",
        "con_mat_df_explain = pd.DataFrame(con_mat,\n",
        "                     index = test_set.class_indices.keys(), \n",
        "                     columns = test_set.class_indices.keys())\n",
        "\n",
        "# show the unnomalized confusion matrix\n",
        "con_mat_df_explain"
      ],
      "execution_count": null,
      "outputs": [
        {
          "output_type": "execute_result",
          "data": {
            "text/html": [
              "<div>\n",
              "<style scoped>\n",
              "    .dataframe tbody tr th:only-of-type {\n",
              "        vertical-align: middle;\n",
              "    }\n",
              "\n",
              "    .dataframe tbody tr th {\n",
              "        vertical-align: top;\n",
              "    }\n",
              "\n",
              "    .dataframe thead th {\n",
              "        text-align: right;\n",
              "    }\n",
              "</style>\n",
              "<table border=\"1\" class=\"dataframe\">\n",
              "  <thead>\n",
              "    <tr style=\"text-align: right;\">\n",
              "      <th></th>\n",
              "      <th>Corn___Cercospora_leaf_spot Gray_leaf_spot</th>\n",
              "      <th>Corn___Common_rust</th>\n",
              "      <th>Corn___Northern_Leaf_Blight</th>\n",
              "      <th>Corn___healthy</th>\n",
              "      <th>Grape___Black_rot</th>\n",
              "      <th>Grape___Esca_(Black_Measles)</th>\n",
              "      <th>Grape___Leaf_blight_(Isariopsis_Leaf_Spot)</th>\n",
              "      <th>Grape___healthy</th>\n",
              "      <th>Potato___Early_blight</th>\n",
              "      <th>Potato___Late_blight</th>\n",
              "      <th>Potato___healthy</th>\n",
              "    </tr>\n",
              "  </thead>\n",
              "  <tbody>\n",
              "    <tr>\n",
              "      <th>Corn___Cercospora_leaf_spot Gray_leaf_spot</th>\n",
              "      <td>93</td>\n",
              "      <td>0</td>\n",
              "      <td>7</td>\n",
              "      <td>0</td>\n",
              "      <td>0</td>\n",
              "      <td>0</td>\n",
              "      <td>0</td>\n",
              "      <td>0</td>\n",
              "      <td>0</td>\n",
              "      <td>0</td>\n",
              "      <td>0</td>\n",
              "    </tr>\n",
              "    <tr>\n",
              "      <th>Corn___Common_rust</th>\n",
              "      <td>0</td>\n",
              "      <td>117</td>\n",
              "      <td>0</td>\n",
              "      <td>0</td>\n",
              "      <td>0</td>\n",
              "      <td>0</td>\n",
              "      <td>0</td>\n",
              "      <td>0</td>\n",
              "      <td>3</td>\n",
              "      <td>0</td>\n",
              "      <td>0</td>\n",
              "    </tr>\n",
              "    <tr>\n",
              "      <th>Corn___Northern_Leaf_Blight</th>\n",
              "      <td>6</td>\n",
              "      <td>0</td>\n",
              "      <td>94</td>\n",
              "      <td>0</td>\n",
              "      <td>0</td>\n",
              "      <td>0</td>\n",
              "      <td>0</td>\n",
              "      <td>0</td>\n",
              "      <td>0</td>\n",
              "      <td>0</td>\n",
              "      <td>0</td>\n",
              "    </tr>\n",
              "    <tr>\n",
              "      <th>Corn___healthy</th>\n",
              "      <td>0</td>\n",
              "      <td>0</td>\n",
              "      <td>0</td>\n",
              "      <td>116</td>\n",
              "      <td>0</td>\n",
              "      <td>0</td>\n",
              "      <td>0</td>\n",
              "      <td>0</td>\n",
              "      <td>0</td>\n",
              "      <td>0</td>\n",
              "      <td>1</td>\n",
              "    </tr>\n",
              "    <tr>\n",
              "      <th>Grape___Black_rot</th>\n",
              "      <td>0</td>\n",
              "      <td>0</td>\n",
              "      <td>0</td>\n",
              "      <td>0</td>\n",
              "      <td>112</td>\n",
              "      <td>5</td>\n",
              "      <td>0</td>\n",
              "      <td>1</td>\n",
              "      <td>0</td>\n",
              "      <td>0</td>\n",
              "      <td>0</td>\n",
              "    </tr>\n",
              "    <tr>\n",
              "      <th>Grape___Esca_(Black_Measles)</th>\n",
              "      <td>0</td>\n",
              "      <td>0</td>\n",
              "      <td>0</td>\n",
              "      <td>0</td>\n",
              "      <td>1</td>\n",
              "      <td>138</td>\n",
              "      <td>0</td>\n",
              "      <td>0</td>\n",
              "      <td>0</td>\n",
              "      <td>0</td>\n",
              "      <td>0</td>\n",
              "    </tr>\n",
              "    <tr>\n",
              "      <th>Grape___Leaf_blight_(Isariopsis_Leaf_Spot)</th>\n",
              "      <td>0</td>\n",
              "      <td>0</td>\n",
              "      <td>0</td>\n",
              "      <td>0</td>\n",
              "      <td>0</td>\n",
              "      <td>0</td>\n",
              "      <td>107</td>\n",
              "      <td>0</td>\n",
              "      <td>1</td>\n",
              "      <td>0</td>\n",
              "      <td>0</td>\n",
              "    </tr>\n",
              "    <tr>\n",
              "      <th>Grape___healthy</th>\n",
              "      <td>0</td>\n",
              "      <td>0</td>\n",
              "      <td>0</td>\n",
              "      <td>0</td>\n",
              "      <td>0</td>\n",
              "      <td>0</td>\n",
              "      <td>0</td>\n",
              "      <td>99</td>\n",
              "      <td>0</td>\n",
              "      <td>0</td>\n",
              "      <td>1</td>\n",
              "    </tr>\n",
              "    <tr>\n",
              "      <th>Potato___Early_blight</th>\n",
              "      <td>0</td>\n",
              "      <td>0</td>\n",
              "      <td>0</td>\n",
              "      <td>0</td>\n",
              "      <td>0</td>\n",
              "      <td>0</td>\n",
              "      <td>0</td>\n",
              "      <td>0</td>\n",
              "      <td>100</td>\n",
              "      <td>0</td>\n",
              "      <td>0</td>\n",
              "    </tr>\n",
              "    <tr>\n",
              "      <th>Potato___Late_blight</th>\n",
              "      <td>0</td>\n",
              "      <td>0</td>\n",
              "      <td>0</td>\n",
              "      <td>0</td>\n",
              "      <td>0</td>\n",
              "      <td>0</td>\n",
              "      <td>2</td>\n",
              "      <td>0</td>\n",
              "      <td>6</td>\n",
              "      <td>88</td>\n",
              "      <td>4</td>\n",
              "    </tr>\n",
              "    <tr>\n",
              "      <th>Potato___healthy</th>\n",
              "      <td>0</td>\n",
              "      <td>0</td>\n",
              "      <td>0</td>\n",
              "      <td>0</td>\n",
              "      <td>0</td>\n",
              "      <td>0</td>\n",
              "      <td>0</td>\n",
              "      <td>0</td>\n",
              "      <td>0</td>\n",
              "      <td>0</td>\n",
              "      <td>100</td>\n",
              "    </tr>\n",
              "  </tbody>\n",
              "</table>\n",
              "</div>"
            ],
            "text/plain": [
              "                                            Corn___Cercospora_leaf_spot Gray_leaf_spot  ...  Potato___healthy\n",
              "Corn___Cercospora_leaf_spot Gray_leaf_spot                                          93  ...                 0\n",
              "Corn___Common_rust                                                                   0  ...                 0\n",
              "Corn___Northern_Leaf_Blight                                                          6  ...                 0\n",
              "Corn___healthy                                                                       0  ...                 1\n",
              "Grape___Black_rot                                                                    0  ...                 0\n",
              "Grape___Esca_(Black_Measles)                                                         0  ...                 0\n",
              "Grape___Leaf_blight_(Isariopsis_Leaf_Spot)                                           0  ...                 0\n",
              "Grape___healthy                                                                      0  ...                 1\n",
              "Potato___Early_blight                                                                0  ...                 0\n",
              "Potato___Late_blight                                                                 0  ...                 4\n",
              "Potato___healthy                                                                     0  ...               100\n",
              "\n",
              "[11 rows x 11 columns]"
            ]
          },
          "metadata": {
            "tags": []
          },
          "execution_count": 16
        }
      ]
    },
    {
      "cell_type": "code",
      "metadata": {
        "colab": {
          "base_uri": "https://localhost:8080/"
        },
        "id": "yZ-lydfDzGpQ",
        "outputId": "11c6d468-714b-4ae5-c8ae-cfa288b51e1c"
      },
      "source": [
        "import sklearn.metrics\n",
        "# generate the clasification report by using the classification_report of sklearn package\n",
        "report = sklearn.metrics.classification_report(test_set.classes, np.argmax(pred, axis=1), target_names=validation_set.class_indices.keys())\n",
        "\n",
        "# print the report\n",
        "print(report)"
      ],
      "execution_count": null,
      "outputs": [
        {
          "output_type": "stream",
          "text": [
            "                                            precision    recall  f1-score   support\n",
            "\n",
            "Corn___Cercospora_leaf_spot Gray_leaf_spot       0.94      0.93      0.93       100\n",
            "                        Corn___Common_rust       1.00      0.97      0.99       120\n",
            "               Corn___Northern_Leaf_Blight       0.93      0.94      0.94       100\n",
            "                            Corn___healthy       1.00      0.99      1.00       117\n",
            "                         Grape___Black_rot       0.99      0.95      0.97       118\n",
            "              Grape___Esca_(Black_Measles)       0.97      0.99      0.98       139\n",
            "Grape___Leaf_blight_(Isariopsis_Leaf_Spot)       0.98      0.99      0.99       108\n",
            "                           Grape___healthy       0.99      0.99      0.99       100\n",
            "                     Potato___Early_blight       0.91      1.00      0.95       100\n",
            "                      Potato___Late_blight       1.00      0.88      0.94       100\n",
            "                          Potato___healthy       0.94      1.00      0.97       100\n",
            "\n",
            "                                  accuracy                           0.97      1202\n",
            "                                 macro avg       0.97      0.97      0.97      1202\n",
            "                              weighted avg       0.97      0.97      0.97      1202\n",
            "\n"
          ],
          "name": "stdout"
        }
      ]
    }
  ]
}